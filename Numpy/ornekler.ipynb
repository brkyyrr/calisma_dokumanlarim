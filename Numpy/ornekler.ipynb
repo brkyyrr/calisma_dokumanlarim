{
 "cells": [
  {
   "cell_type": "code",
   "execution_count": null,
   "metadata": {},
   "outputs": [],
   "source": [
    "### NUMPY"
   ]
  },
  {
   "cell_type": "code",
   "execution_count": 1,
   "metadata": {},
   "outputs": [
    {
     "name": "stdout",
     "output_type": "stream",
     "text": [
      "Vektor : [1 2 3 4]\n",
      "Boyutu : 4\n",
      "Veri Tipi:  <class 'numpy.ndarray'>\n",
      "Array Nesne Tipi :  int32\n"
     ]
    }
   ],
   "source": [
    "#Tek boyutlu Numpy dizisi\n",
    "import numpy as np\n",
    "vektor = np.array([1,2,3,4])\n",
    "print(\"Vektor :\", vektor)\n",
    "print(\"Boyutu :\", vektor.size)\n",
    "print(\"Veri Tipi: \", type(vektor))\n",
    "print(\"Array Nesne Tipi : \", vektor.dtype)"
   ]
  },
  {
   "cell_type": "code",
   "execution_count": 2,
   "metadata": {},
   "outputs": [
    {
     "name": "stdout",
     "output_type": "stream",
     "text": [
      "vektor[3] : 4\n",
      "vektor[0] : 5\n",
      "Vektor : [5 2 3 4]\n"
     ]
    }
   ],
   "source": [
    "#Dizinin Elemanlarına Erişim\n",
    "print(\"vektor[3] :\",vektor[3])\n",
    "vektor[0] = 5\n",
    "print(\"vektor[0] :\",vektor[0])\n",
    "print(\"Vektor :\", vektor)\n"
   ]
  },
  {
   "cell_type": "code",
   "execution_count": 3,
   "metadata": {},
   "outputs": [
    {
     "name": "stdout",
     "output_type": "stream",
     "text": [
      "Dizi \n",
      " [[1.2 1.3 3.4]\n",
      " [2.5 6.  5.5]]\n",
      "Boyutu : 6\n",
      "Veri Tipi :  <class 'numpy.ndarray'>\n",
      "Array Nesne Tipi :  float64\n",
      "Dizinin Boyutu   :  (2, 3)\n",
      "iki_boyutlu[0,2] : 3.4\n"
     ]
    }
   ],
   "source": [
    "#2 boyutlu dizi oluşturma\n",
    "iki_boyutlu = np.array([[1.2,1.3,3.4],[2.5,6,5.5]])\n",
    "print(\"Dizi \\n\", iki_boyutlu)\n",
    "print(\"Boyutu :\", iki_boyutlu.size)\n",
    "print(\"Veri Tipi : \", type(iki_boyutlu))\n",
    "print(\"Array Nesne Tipi : \", iki_boyutlu.dtype)\n",
    "print(\"Dizinin Boyutu   : \", iki_boyutlu.shape)\n",
    "print(\"iki_boyutlu[0,2] :\", iki_boyutlu[0,2])\n"
   ]
  },
  {
   "cell_type": "code",
   "execution_count": 4,
   "metadata": {},
   "outputs": [
    {
     "name": "stdout",
     "output_type": "stream",
     "text": [
      "[1. 2. 3. 4. 5. 6. 7. 8. 9.]\n"
     ]
    }
   ],
   "source": [
    "#np.arange( )\n",
    "artan_matris = np.arange(1,10,dtype=float)\n",
    "print(artan_matris)"
   ]
  },
  {
   "cell_type": "code",
   "execution_count": 5,
   "metadata": {},
   "outputs": [
    {
     "name": "stdout",
     "output_type": "stream",
     "text": [
      "[ 0.  12.5 25.  37.5 50. ]\n"
     ]
    }
   ],
   "source": [
    "#np.linspace( )\n",
    "dilim_matris = np.linspace(0,50,5)\n",
    "print(dilim_matris)"
   ]
  },
  {
   "cell_type": "code",
   "execution_count": 6,
   "metadata": {},
   "outputs": [
    {
     "name": "stdout",
     "output_type": "stream",
     "text": [
      "[[0. 0.]\n",
      " [0. 0.]]\n"
     ]
    }
   ],
   "source": [
    "#np.zeros( )\n",
    "sifir_matris = np.zeros((2,2))\n",
    "print(sifir_matris)"
   ]
  },
  {
   "cell_type": "code",
   "execution_count": 7,
   "metadata": {},
   "outputs": [
    {
     "name": "stdout",
     "output_type": "stream",
     "text": [
      "[[1. 1.]\n",
      " [1. 1.]\n",
      " [1. 1.]]\n"
     ]
    }
   ],
   "source": [
    "#np.ones( )\n",
    "bir_matris = np.ones((3,2))\n",
    "print(bir_matris)"
   ]
  },
  {
   "cell_type": "code",
   "execution_count": 8,
   "metadata": {},
   "outputs": [
    {
     "name": "stdout",
     "output_type": "stream",
     "text": [
      "[[7 7]\n",
      " [7 7]]\n"
     ]
    }
   ],
   "source": [
    "#np.full( )\n",
    "sabit_matris = np.full((2,2),7)\n",
    "print(sabit_matris)"
   ]
  },
  {
   "cell_type": "code",
   "execution_count": 9,
   "metadata": {},
   "outputs": [
    {
     "name": "stdout",
     "output_type": "stream",
     "text": [
      "[[1. 0.]\n",
      " [0. 1.]]\n"
     ]
    }
   ],
   "source": [
    "#np.eye( )\n",
    "birim_matris = np.eye(2)\n",
    "print(birim_matris)"
   ]
  },
  {
   "cell_type": "code",
   "execution_count": 10,
   "metadata": {},
   "outputs": [
    {
     "name": "stdout",
     "output_type": "stream",
     "text": [
      "[[0.93721802 0.70086214]\n",
      " [0.6243496  0.79268742]]\n"
     ]
    }
   ],
   "source": [
    "#np.random( )\n",
    "rastgele_matris = np.random.random((2,2))\n",
    "print(rastgele_matris)"
   ]
  },
  {
   "cell_type": "code",
   "execution_count": 11,
   "metadata": {},
   "outputs": [
    {
     "name": "stdout",
     "output_type": "stream",
     "text": [
      "[[1 2 3]\n",
      " [4 5 6]\n",
      " [7 8 9]]\n",
      "dizi[1,:] :  [4 5 6]\n",
      "dizi[:,2] :  [3 6 9]\n"
     ]
    }
   ],
   "source": [
    "#Numpy Dizilerinde Dilimlenme\n",
    "dizi = np.array([[1,2,3], [4,5,6], [7,8,9]])\n",
    "#Tek Boyutta Dilimlenme\n",
    "print(dizi)\n",
    "print(\"dizi[1,:] : \", dizi[1,:])\n",
    "print(\"dizi[:,2] : \",dizi[:,2])"
   ]
  },
  {
   "cell_type": "code",
   "execution_count": 12,
   "metadata": {},
   "outputs": [
    {
     "name": "stdout",
     "output_type": "stream",
     "text": [
      "dizi[:2, 1:2] : \n",
      " [[2]\n",
      " [5]]\n"
     ]
    }
   ],
   "source": [
    "#İki Boyutta Dilimlenme\n",
    "print(\"dizi[:2, 1:2] : \\n\",dizi[:2, 1:2])"
   ]
  },
  {
   "cell_type": "code",
   "execution_count": 13,
   "metadata": {},
   "outputs": [
    {
     "name": "stdout",
     "output_type": "stream",
     "text": [
      "Matris :\n",
      " [[1 2 3]\n",
      " [4 5 6]]\n",
      "Matris Toplamı :  21\n",
      "Axis = 0  [5 7 9]\n",
      "Axis = 1  [ 6 15]\n"
     ]
    }
   ],
   "source": [
    "#Matris Fonksiyonları\n",
    "\n",
    "#Sum (elemanlar toplamı)\n",
    "x = np.array([[1,2,3],[4,5,6]])\n",
    "print(\"Matris :\\n\", x)\n",
    "print(\"Matris Toplamı : \", np.sum(x))\n",
    "print(\"Axis = 0 \" , np.sum(x, axis=0))\n",
    "print(\"Axis = 1 \" , np.sum(x, axis=1))"
   ]
  },
  {
   "cell_type": "code",
   "execution_count": 14,
   "metadata": {},
   "outputs": [
    {
     "name": "stdout",
     "output_type": "stream",
     "text": [
      "Matrisin Ortalaması :  3.5\n",
      "Axis = 0  [2.5 3.5 4.5]\n",
      "Axis = 1  [2. 5.]\n"
     ]
    }
   ],
   "source": [
    "#Mean (elemanlar ortalaması)\n",
    "\n",
    "print(\"Matrisin Ortalaması : \", np.mean(x))\n",
    "print(\"Axis = 0 \" , np.mean(x, axis=0))\n",
    "print(\"Axis = 1 \" , np.mean(x, axis=1))"
   ]
  },
  {
   "cell_type": "code",
   "execution_count": 15,
   "metadata": {},
   "outputs": [
    {
     "name": "stdout",
     "output_type": "stream",
     "text": [
      "Matris  \n",
      " [[1 2]\n",
      " [3 4]]\n",
      "\n",
      "Transpose Alınınca  \n",
      " [[1 3]\n",
      " [2 4]]\n"
     ]
    }
   ],
   "source": [
    "# Transpose (matris devriği)\n",
    "transpose = np.array([[1,2], [3,4]])\n",
    "print(\"Matris  \\n\", transpose)\n",
    "print(\"\\nTranspose Alınınca  \\n\", (transpose.T))"
   ]
  },
  {
   "cell_type": "code",
   "execution_count": 16,
   "metadata": {},
   "outputs": [
    {
     "name": "stdout",
     "output_type": "stream",
     "text": [
      "Matris \n",
      " [ 1  2  3  4  5  6  7  8  9 10 11 12]\n",
      "\n",
      "Boyut Değişimi \n",
      " [[[ 1  2]\n",
      "  [ 3  4]\n",
      "  [ 5  6]]\n",
      "\n",
      " [[ 7  8]\n",
      "  [ 9 10]\n",
      "  [11 12]]]\n"
     ]
    }
   ],
   "source": [
    "#Reshape\n",
    "dizi = np.array([1,2,3,4,5,6,7,8,9,10,11,12])\n",
    "print(\"Matris \\n\", dizi)\n",
    "print(\"\\nBoyut Değişimi \\n\", dizi.reshape(2,3,2))"
   ]
  },
  {
   "cell_type": "code",
   "execution_count": null,
   "metadata": {},
   "outputs": [],
   "source": []
  },
  {
   "cell_type": "markdown",
   "metadata": {},
   "source": []
  },
  {
   "cell_type": "code",
   "execution_count": null,
   "metadata": {},
   "outputs": [],
   "source": []
  },
  {
   "attachments": {},
   "cell_type": "markdown",
   "metadata": {},
   "source": []
  }
 ],
 "metadata": {
  "kernelspec": {
   "display_name": "my_example",
   "language": "python",
   "name": "python3"
  },
  "language_info": {
   "codemirror_mode": {
    "name": "ipython",
    "version": 3
   },
   "file_extension": ".py",
   "mimetype": "text/x-python",
   "name": "python",
   "nbconvert_exporter": "python",
   "pygments_lexer": "ipython3",
   "version": "3.10.8"
  },
  "orig_nbformat": 4
 },
 "nbformat": 4,
 "nbformat_minor": 2
}
