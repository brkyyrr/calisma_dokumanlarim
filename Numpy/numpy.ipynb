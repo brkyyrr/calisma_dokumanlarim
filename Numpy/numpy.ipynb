{
 "cells": [
  {
   "attachments": {},
   "cell_type": "markdown",
   "metadata": {},
   "source": [
    "**<b><center>NUMPY</center></b>**"
   ]
  },
  {
   "attachments": {},
   "cell_type": "markdown",
   "metadata": {},
   "source": [
    "&nbsp; &nbsp; &nbsp; &nbsp;Dizi ve matrisler üzerinde, üst düzey matematiksel işlemler yapmamızı sağlar. Veri türü ndarray dir. Tek boyutlu olabileceği gibi, çok boyutlu da olabilir. Dizileri oluştururken türünü (int, float) belirlenebilir. <br/>"
   ]
  },
  {
   "attachments": {},
   "cell_type": "markdown",
   "metadata": {},
   "source": [
    "*<i><b>Tek Boyutlu Dizi (Vektör) Oluşturma</b></i><br/>*\n",
    "&nbsp; &nbsp; &nbsp; &nbsp; Tek boyutlu Numpy dizisi oluşturmak için <b>np.array()</b> metodunu kullanırız."
   ]
  },
  {
   "cell_type": "code",
   "execution_count": 1,
   "metadata": {},
   "outputs": [
    {
     "name": "stdout",
     "output_type": "stream",
     "text": [
      "Vektor : [1 2 3 4]\n",
      "Boyutu : 4\n",
      "Veri Tipi:  <class 'numpy.ndarray'>\n",
      "Array Nesne Tipi :  int32\n"
     ]
    }
   ],
   "source": [
    "import numpy as np\n",
    "vektor = np.array([1,2,3,4])\n",
    "print(\"Vektor :\", vektor)\n",
    "print(\"Boyutu :\", vektor.size)\n",
    "print(\"Veri Tipi: \", type(vektor))\n",
    "print(\"Array Nesne Tipi : \", vektor.dtype)"
   ]
  },
  {
   "attachments": {},
   "cell_type": "markdown",
   "metadata": {},
   "source": [
    "&nbsp; &nbsp; &nbsp; &nbsp;Dizi elemanlarına erişebilir, değişiklik yapabiliriz."
   ]
  },
  {
   "cell_type": "code",
   "execution_count": 2,
   "metadata": {},
   "outputs": [
    {
     "name": "stdout",
     "output_type": "stream",
     "text": [
      "vektor[3] : 4\n",
      "vektor[0] : 5\n",
      "Vektor : [5 2 3 4]\n"
     ]
    }
   ],
   "source": [
    "print(\"vektor[3] :\",vektor[3])\n",
    "vektor[0] = 5\n",
    "print(\"vektor[0] :\",vektor[0])\n",
    "print(\"Vektor :\", vektor)"
   ]
  },
  {
   "attachments": {},
   "cell_type": "markdown",
   "metadata": {},
   "source": [
    "*<i><b>İki Boyutlu Dizi Oluşturma</b></i><br/>*\n",
    "&nbsp; &nbsp; &nbsp; &nbsp; İki boyutlu dizileri de <b>np.array()</b> metodu ile oluştururuz."
   ]
  },
  {
   "cell_type": "code",
   "execution_count": 3,
   "metadata": {},
   "outputs": [
    {
     "name": "stdout",
     "output_type": "stream",
     "text": [
      "Dizi \n",
      " [[1.2 1.3 3.4]\n",
      " [2.5 6.  5.5]]\n",
      "Boyutu : 6\n",
      "Veri Tipi :  <class 'numpy.ndarray'>\n",
      "Array Nesne Tipi :  float64\n",
      "Dizinin Boyutu   :  (2, 3)\n",
      "iki_boyutlu[0,2] : 3.4\n"
     ]
    }
   ],
   "source": [
    "#2 boyutlu dizi oluşturma\n",
    "iki_boyutlu = np.array([[1.2,1.3,3.4],[2.5,6,5.5]])\n",
    "print(\"Dizi \\n\", iki_boyutlu)\n",
    "print(\"Boyutu :\", iki_boyutlu.size)\n",
    "print(\"Veri Tipi : \", type(iki_boyutlu))\n",
    "print(\"Array Nesne Tipi : \", iki_boyutlu.dtype)\n",
    "print(\"Dizinin Boyutu   : \", iki_boyutlu.shape)\n",
    "print(\"iki_boyutlu[0,2] :\", iki_boyutlu[0,2])\n"
   ]
  },
  {
   "attachments": {},
   "cell_type": "markdown",
   "metadata": {},
   "source": [
    "*<i><b>Özel Numpy Dizileri</b></i><br/>*\n",
    "<br>\n",
    "&nbsp; &nbsp; &nbsp; &nbsp;<b>np.arange()</b> başlangıç, bitiş ve sayıların tipini belirleyebileceğimiz, artan sayılardan oluşan bir dizi oluşturur."
   ]
  },
  {
   "cell_type": "code",
   "execution_count": 4,
   "metadata": {},
   "outputs": [
    {
     "name": "stdout",
     "output_type": "stream",
     "text": [
      "[1. 2. 3. 4. 5. 6. 7. 8. 9.]\n"
     ]
    }
   ],
   "source": [
    "artan_matris = np.arange(1,10,dtype=float)\n",
    "print(artan_matris)"
   ]
  },
  {
   "attachments": {},
   "cell_type": "markdown",
   "metadata": {},
   "source": [
    "&nbsp; &nbsp; &nbsp; &nbsp;<b>np.linspace()</b> belirlediğimiz başlangıç ve bitiş aralığında eşit olacak şekilde dilimler oluşturur. Dilim miktarı en fazla 50'dir."
   ]
  },
  {
   "cell_type": "code",
   "execution_count": 5,
   "metadata": {},
   "outputs": [
    {
     "name": "stdout",
     "output_type": "stream",
     "text": [
      "[ 0.  12.5 25.  37.5 50. ]\n"
     ]
    }
   ],
   "source": [
    "dilim_matris = np.linspace(0,50,5)\n",
    "print(dilim_matris)"
   ]
  },
  {
   "attachments": {},
   "cell_type": "markdown",
   "metadata": {},
   "source": [
    "*<i><b>Özel Numpy Matrisleri</b></i><br/>*\n",
    "<br>\n",
    "&nbsp; &nbsp; &nbsp; &nbsp;<b>np.zeros()</b> tamamı 0 sayısından oluşan bir matris oluşturur."
   ]
  },
  {
   "cell_type": "code",
   "execution_count": 6,
   "metadata": {},
   "outputs": [
    {
     "name": "stdout",
     "output_type": "stream",
     "text": [
      "[[0. 0.]\n",
      " [0. 0.]]\n"
     ]
    }
   ],
   "source": [
    "sifir_matris = np.zeros((2,2))\n",
    "print(sifir_matris)"
   ]
  },
  {
   "attachments": {},
   "cell_type": "markdown",
   "metadata": {},
   "source": [
    "&nbsp; &nbsp; &nbsp; &nbsp;<b>np.ones()</b> tamamı 1 sayısından oluşan bir matris oluşturur."
   ]
  },
  {
   "cell_type": "code",
   "execution_count": 7,
   "metadata": {},
   "outputs": [
    {
     "name": "stdout",
     "output_type": "stream",
     "text": [
      "[[1. 1.]\n",
      " [1. 1.]\n",
      " [1. 1.]]\n"
     ]
    }
   ],
   "source": [
    "bir_matris = np.ones((3,2))\n",
    "print(bir_matris)"
   ]
  },
  {
   "attachments": {},
   "cell_type": "markdown",
   "metadata": {},
   "source": [
    "&nbsp; &nbsp; &nbsp; &nbsp;<b>np.full()</b> sabit matristir. Belirleyeceğimiz değer ile, istediğimiz boyutta matris oluşturur."
   ]
  },
  {
   "cell_type": "code",
   "execution_count": 8,
   "metadata": {},
   "outputs": [
    {
     "name": "stdout",
     "output_type": "stream",
     "text": [
      "[[7 7]\n",
      " [7 7]]\n"
     ]
    }
   ],
   "source": [
    "sabit_matris = np.full((2,2),7)\n",
    "print(sabit_matris)"
   ]
  },
  {
   "attachments": {},
   "cell_type": "markdown",
   "metadata": {},
   "source": [
    "&nbsp; &nbsp; &nbsp; &nbsp;<b>np.eye()</b> belirlediğimiz boyutta birim matris oluşturmamızı sağlar."
   ]
  },
  {
   "cell_type": "code",
   "execution_count": 8,
   "metadata": {},
   "outputs": [
    {
     "name": "stdout",
     "output_type": "stream",
     "text": [
      "[[1. 0.]\n",
      " [0. 1.]]\n"
     ]
    }
   ],
   "source": [
    "birim_matris = np.eye(2)\n",
    "print(birim_matris)"
   ]
  },
  {
   "attachments": {},
   "cell_type": "markdown",
   "metadata": {},
   "source": [
    "<br>\n",
    "<br>\n",
    "<br>"
   ]
  },
  {
   "attachments": {},
   "cell_type": "markdown",
   "metadata": {},
   "source": [
    "&nbsp; &nbsp; &nbsp; &nbsp;<b>np.random()</b> istediğimiz boyutta değerleri 0-1 arasında olacak şekilde rastgele değerlerden oluşan bir matris oluşturmamızı sağlar."
   ]
  },
  {
   "cell_type": "code",
   "execution_count": 9,
   "metadata": {},
   "outputs": [
    {
     "name": "stdout",
     "output_type": "stream",
     "text": [
      "[[0.43264606 0.05510894]\n",
      " [0.34511772 0.47597606]]\n"
     ]
    }
   ],
   "source": [
    "rastgele_matris = np.random.random((2,2))\n",
    "print(rastgele_matris)"
   ]
  },
  {
   "attachments": {},
   "cell_type": "markdown",
   "metadata": {},
   "source": [
    "*<i><b>Özel Numpy Dizileri</b></i><br/>*\n",
    "&nbsp; &nbsp; &nbsp; &nbsp;Matrisleri istediğimiz şekilde bölümleyerek yeni değerler atayabiliriz. Birbiri ile bağlantılı matrislerde, ilkinde yapacağımız değişikliğin diğerlerini de etkileyeceğini unutmayın.<br/>\n",
    "<br>\n",
    "&nbsp; &nbsp; &nbsp; &nbsp;<b>Tek Boyutta Dilimleme</b>"
   ]
  },
  {
   "cell_type": "code",
   "execution_count": 10,
   "metadata": {},
   "outputs": [
    {
     "name": "stdout",
     "output_type": "stream",
     "text": [
      "[[1 2 3]\n",
      " [4 5 6]\n",
      " [7 8 9]]\n",
      "dizi[1,:] :  [4 5 6]\n",
      "dizi[:,2] :  [3 6 9]\n"
     ]
    }
   ],
   "source": [
    "dizi = np.array([[1,2,3], [4,5,6], [7,8,9]])\n",
    "\n",
    "print(dizi)\n",
    "print(\"dizi[1,:] : \", dizi[1,:])\n",
    "print(\"dizi[:,2] : \",dizi[:,2])"
   ]
  },
  {
   "attachments": {},
   "cell_type": "markdown",
   "metadata": {},
   "source": [
    "&nbsp; &nbsp; &nbsp; &nbsp;<b>İki Boyutta Dilimlenme</b>"
   ]
  },
  {
   "cell_type": "code",
   "execution_count": 11,
   "metadata": {},
   "outputs": [
    {
     "name": "stdout",
     "output_type": "stream",
     "text": [
      "dizi[:2, 1:2] : \n",
      " [[2]\n",
      " [5]]\n"
     ]
    }
   ],
   "source": [
    "print(\"dizi[:2, 1:2] : \\n\",dizi[:2, 1:2])"
   ]
  },
  {
   "attachments": {},
   "cell_type": "markdown",
   "metadata": {},
   "source": [
    "*<i><b>Matris Fonksiyonları</b></i><br/>*\n",
    "<br>\n",
    "&nbsp; &nbsp; &nbsp; &nbsp;<b>Sum</b> bütün elemanların toplamını verir. <b>axis</b> parametresinde yapacağımız değişiklik ile satır ya da sütun toplamını da alabiliriz."
   ]
  },
  {
   "cell_type": "code",
   "execution_count": 12,
   "metadata": {},
   "outputs": [
    {
     "name": "stdout",
     "output_type": "stream",
     "text": [
      "Matris :\n",
      " [[1 2 3]\n",
      " [4 5 6]]\n",
      "Matris Toplamı :  21\n",
      "Axis = 0  [5 7 9]\n",
      "Axis = 1  [ 6 15]\n"
     ]
    }
   ],
   "source": [
    "x = np.array([[1,2,3],[4,5,6]])\n",
    "print(\"Matris :\\n\", x)\n",
    "print(\"Matris Toplamı : \", np.sum(x))\n",
    "print(\"Axis = 0 \" , np.sum(x, axis=0))\n",
    "print(\"Axis = 1 \" , np.sum(x, axis=1))"
   ]
  },
  {
   "attachments": {},
   "cell_type": "markdown",
   "metadata": {},
   "source": [
    "<br>\n",
    "<br>\n",
    "<br>"
   ]
  },
  {
   "attachments": {},
   "cell_type": "markdown",
   "metadata": {},
   "source": [
    "&nbsp; &nbsp; &nbsp; &nbsp;<b>Mean</b> elemanların ortalamasını verir."
   ]
  },
  {
   "cell_type": "code",
   "execution_count": 13,
   "metadata": {},
   "outputs": [
    {
     "name": "stdout",
     "output_type": "stream",
     "text": [
      "Matrisin Ortalaması :  3.5\n",
      "Axis = 0  [2.5 3.5 4.5]\n",
      "Axis = 1  [2. 5.]\n"
     ]
    }
   ],
   "source": [
    "print(\"Matrisin Ortalaması : \", np.mean(x))\n",
    "print(\"Axis = 0 \" , np.mean(x, axis=0))\n",
    "print(\"Axis = 1 \" , np.mean(x, axis=1))"
   ]
  },
  {
   "attachments": {},
   "cell_type": "markdown",
   "metadata": {},
   "source": [
    "&nbsp; &nbsp; &nbsp; &nbsp;<b>Transpose</b> satır ve sütunların yerlerini değiştirir. Vektörlerin devriği alınmaz."
   ]
  },
  {
   "cell_type": "code",
   "execution_count": 14,
   "metadata": {},
   "outputs": [
    {
     "name": "stdout",
     "output_type": "stream",
     "text": [
      "Matris  \n",
      " [[1 2]\n",
      " [3 4]]\n",
      "\n",
      "Transpose Alınınca  \n",
      " [[1 3]\n",
      " [2 4]]\n"
     ]
    }
   ],
   "source": [
    "transpose = np.array([[1,2], [3,4]])\n",
    "print(\"Matris  \\n\", transpose)\n",
    "print(\"\\nTranspose Alınınca  \\n\", (transpose.T))"
   ]
  },
  {
   "attachments": {},
   "cell_type": "markdown",
   "metadata": {},
   "source": [
    "&nbsp; &nbsp; &nbsp; &nbsp;<b>Reshape</b> matrisin boyutunu değiştirmemizi sağlar. İşlem sırasında matris boyutunun değişiklik için uygun olması gerekmektedir."
   ]
  },
  {
   "cell_type": "code",
   "execution_count": 15,
   "metadata": {},
   "outputs": [
    {
     "name": "stdout",
     "output_type": "stream",
     "text": [
      "Matris \n",
      " [ 1  2  3  4  5  6  7  8  9 10 11 12]\n",
      "\n",
      "Boyut Değişimi \n",
      " [[[ 1  2]\n",
      "  [ 3  4]\n",
      "  [ 5  6]]\n",
      "\n",
      " [[ 7  8]\n",
      "  [ 9 10]\n",
      "  [11 12]]]\n"
     ]
    }
   ],
   "source": [
    "dizi = np.array([1,2,3,4,5,6,7,8,9,10,11,12])\n",
    "print(\"Matris \\n\", dizi)\n",
    "print(\"\\nBoyut Değişimi \\n\", dizi.reshape(2,3,2))"
   ]
  },
  {
   "attachments": {},
   "cell_type": "markdown",
   "metadata": {},
   "source": [
    "<b>İletişim</b> <br/>\n",
    "<a href=\"mailto:berkayyurur@gmail.com\">\n",
    "    <img src=\"https://camo.githubusercontent.com/c44086cddf7f39a51f77e8a27e5a23dbfc7ed0722f55d49ad0afadad4d1e0471/68747470733a2f2f75706c6f61642e77696b696d656469612e6f72672f77696b6970656469612f636f6d6d6f6e732f342f34652f476d61696c5f49636f6e2e706e67\" alt=\"berkayyurur@gmail.com\" data-canonical-src=\"https://upload.wikimedia.org/wikipedia/commons/4/4e/Gmail_Icon.png\" style=\"max-width: 100%;\" width=\"30\" height=\"30\">\n",
    "</a>\n",
    "<a href=\"https://www.linkedin.com/in/berkayyurur/\" rel=\"nofollow\">\n",
    "    <img src=\"https://camo.githubusercontent.com/941103b55ebacbfa446f1ade5f01f1419a12a2c6133fb07ef8894a524566498a/68747470733a2f2f636f6e74656e742e6c696e6b6564696e2e636f6d2f636f6e74656e742f64616d2f6d652f627573696e6573732f656e2d75732f616d702f6272616e642d736974652f76322f62672f4c492d4275672e7376672e6f726967696e616c2e737667\" alt=\"berkayyurur\" data-canonical-src=\"https://content.linkedin.com/content/dam/me/business/en-us/amp/brand-site/v2/bg/LI-Bug.svg.original.svg\" style=\"max-width: 100%;\" width=\"30\" height=\"30\">\n",
    "  </a>\n"
   ]
  },
  {
   "attachments": {},
   "cell_type": "markdown",
   "metadata": {},
   "source": [
    "<i>Berkay Yürür</i>"
   ]
  }
 ],
 "metadata": {
  "kernelspec": {
   "display_name": "my_example",
   "language": "python",
   "name": "python3"
  },
  "language_info": {
   "codemirror_mode": {
    "name": "ipython",
    "version": 3
   },
   "file_extension": ".py",
   "mimetype": "text/x-python",
   "name": "python",
   "nbconvert_exporter": "python",
   "pygments_lexer": "ipython3",
   "version": "3.10.8"
  },
  "orig_nbformat": 4
 },
 "nbformat": 4,
 "nbformat_minor": 2
}
